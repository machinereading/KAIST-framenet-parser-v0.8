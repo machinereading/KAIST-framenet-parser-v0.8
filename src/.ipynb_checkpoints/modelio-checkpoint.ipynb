{
 "cells": [
  {
   "cell_type": "code",
   "execution_count": 12,
   "metadata": {},
   "outputs": [],
   "source": [
    "import torch\n",
    "import os\n",
    "import numpy as np\n",
    "os.environ[\"CUDA_VISIBLE_DEVICES\"]= \"0\"\n",
    "os.environ['CUDA_LAUNCH_BLOCKING'] = \"1\"\n",
    "import torch.backends.cudnn as cudnn\n",
    "cudnn.benchmark = True"
   ]
  },
  {
   "cell_type": "code",
   "execution_count": null,
   "metadata": {},
   "outputs": [],
   "source": [
    "class prepare(object):\n",
    "    def __init__(self, usingGPU):\n",
    "        self.usingGPU = usingGPU \n",
    "        \n",
    "    def prepare_sentence(self, conll):\n",
    "        sentence, pos, dp, lu, frame = [],[],[], False, False\n",
    "        for token in conll:\n",
    "            w,p,d,l,f = token[1],token[5],token[10],token[12],token[13]\n",
    "            sentence.append(w)\n",
    "            pos.append(p)\n",
    "            dp.append(d)\n",
    "            if token[12] != '_':\n",
    "                lu, frame = token[12], token[13]\n",
    "        return sentence, pos, dp, lu, frame\n",
    "    \n",
    "    def prepare_sequence(self, seq, to_ix):\n",
    "        vocab = list(to_ix.keys())\n",
    "        idxs = []\n",
    "        for w in seq:\n",
    "            if w in vocab:\n",
    "                idxs.append(to_ix[w])\n",
    "            else:\n",
    "                idxs.append(0)            \n",
    "        if self.usingGPU:\n",
    "            return torch.tensor(idxs).type(torch.cuda.LongTensor)\n",
    "        else:\n",
    "            return torch.tensor(idxs, dtype=torch.long)\n",
    "        \n",
    "    def prepare_ix(self, item, to_ix):\n",
    "        idxs = [0]\n",
    "        try:\n",
    "            idxs = [ to_ix[item] ]\n",
    "        except:\n",
    "            pass\n",
    "        if self.usingGPU:\n",
    "            return torch.tensor(idxs).type(torch.cuda.LongTensor)\n",
    "        else:\n",
    "            return torch.tensor(idxs, dtype=torch.long)  \n",
    "    "
   ]
  },
  {
   "cell_type": "code",
   "execution_count": 13,
   "metadata": {},
   "outputs": [],
   "source": [
    "class tensor2tag(object):\n",
    "    \n",
    "    def __init__(self, frame_to_ix, fe_to_ix, usingGPU):\n",
    "        self.usingGPU = usingGPU \n",
    "        self.frame_to_ix = frame_to_ix\n",
    "        self.fe_to_ix = fe_to_ix\n",
    "        \n",
    "    def get_frame_by_tensor(self, t):\n",
    "        value, indices = t.max(1)\n",
    "        score = pow(10, value)\n",
    "\n",
    "        pred = None\n",
    "        for frame, idx in self.frame_to_ix.items():\n",
    "            if idx == indices:\n",
    "                pred = frame\n",
    "                break\n",
    "        return score, pred\n",
    "    \n",
    "    def get_fe_by_tensor(self, t):\n",
    "        value, indices = t.max(1)\n",
    "        score = pow(10, value)\n",
    "\n",
    "        pred = None\n",
    "        for fe, idx in self.fe_to_ix.items():\n",
    "            if idx == indices:\n",
    "                pred = fe\n",
    "                break\n",
    "        return score, pred"
   ]
  }
 ],
 "metadata": {
  "kernelspec": {
   "display_name": "Python 3",
   "language": "python",
   "name": "python3"
  },
  "language_info": {
   "codemirror_mode": {
    "name": "ipython",
    "version": 3
   },
   "file_extension": ".py",
   "mimetype": "text/x-python",
   "name": "python",
   "nbconvert_exporter": "python",
   "pygments_lexer": "ipython3",
   "version": "3.6.5"
  }
 },
 "nbformat": 4,
 "nbformat_minor": 2
}
